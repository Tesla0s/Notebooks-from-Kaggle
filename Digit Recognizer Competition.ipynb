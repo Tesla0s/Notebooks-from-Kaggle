{
 "cells": [
  {
   "cell_type": "code",
   "execution_count": 1,
   "id": "57d3677e",
   "metadata": {
    "_cell_guid": "b1076dfc-b9ad-4769-8c92-a6c4dae69d19",
    "_uuid": "8f2839f25d086af736a60e9eeb907d3b93b6e0e5",
    "execution": {
     "iopub.execute_input": "2024-08-06T12:02:02.831154Z",
     "iopub.status.busy": "2024-08-06T12:02:02.830780Z",
     "iopub.status.idle": "2024-08-06T12:02:08.660840Z",
     "shell.execute_reply": "2024-08-06T12:02:08.659585Z"
    },
    "papermill": {
     "duration": 5.839497,
     "end_time": "2024-08-06T12:02:08.663520",
     "exception": false,
     "start_time": "2024-08-06T12:02:02.824023",
     "status": "completed"
    },
    "tags": []
   },
   "outputs": [
    {
     "name": "stdout",
     "output_type": "stream",
     "text": [
      "/kaggle/input/digit-recognizer/sample_submission.csv\n",
      "/kaggle/input/digit-recognizer/train.csv\n",
      "/kaggle/input/digit-recognizer/test.csv\n"
     ]
    }
   ],
   "source": [
    "# This Python 3 environment comes with many helpful analytics libraries installed\n",
    "# It is defined by the kaggle/python Docker image: https://github.com/kaggle/docker-python\n",
    "# For example, here's several helpful packages to load\n",
    "\n",
    "import numpy as np # linear algebra\n",
    "import pandas as pd # data processing, CSV file I/O (e.g. pd.read_csv)\n",
    "\n",
    "# Input data files are available in the read-only \"../input/\" directory\n",
    "# For example, running this (by clicking run or pressing Shift+Enter) will list all files under the input directory\n",
    "\n",
    "import os\n",
    "for dirname, _, filenames in os.walk('/kaggle/input'):\n",
    "    for filename in filenames:\n",
    "        print(os.path.join(dirname, filename))\n",
    "\n",
    "# You can write up to 20GB to the current directory (/kaggle/working/) that gets preserved as output when you create a version using \"Save & Run All\" \n",
    "# You can also write temporary files to /kaggle/temp/, but they won't be saved outside of the current session\n",
    "\n",
    "import torch\n",
    "import torch.nn as nn\n",
    "import torch.optim as optim\n",
    "from torch.utils.data import DataLoader, Dataset\n",
    "from sklearn.model_selection import train_test_split\n",
    "from sklearn.metrics import accuracy_score\n",
    "import torch.nn.functional as F"
   ]
  },
  {
   "cell_type": "markdown",
   "id": "138c5edf",
   "metadata": {
    "execution": {
     "iopub.execute_input": "2024-08-05T13:54:23.788032Z",
     "iopub.status.busy": "2024-08-05T13:54:23.786892Z",
     "iopub.status.idle": "2024-08-05T13:54:23.792157Z",
     "shell.execute_reply": "2024-08-05T13:54:23.791109Z",
     "shell.execute_reply.started": "2024-08-05T13:54:23.787998Z"
    },
    "papermill": {
     "duration": 0.005121,
     "end_time": "2024-08-06T12:02:08.674078",
     "exception": false,
     "start_time": "2024-08-06T12:02:08.668957",
     "status": "completed"
    },
    "tags": []
   },
   "source": [
    "## 1. Загружаем данные из файлов"
   ]
  },
  {
   "cell_type": "code",
   "execution_count": 2,
   "id": "e8bbebea",
   "metadata": {
    "execution": {
     "iopub.execute_input": "2024-08-06T12:02:08.685600Z",
     "iopub.status.busy": "2024-08-06T12:02:08.685049Z",
     "iopub.status.idle": "2024-08-06T12:02:13.978890Z",
     "shell.execute_reply": "2024-08-06T12:02:13.977695Z"
    },
    "papermill": {
     "duration": 5.302412,
     "end_time": "2024-08-06T12:02:13.981364",
     "exception": false,
     "start_time": "2024-08-06T12:02:08.678952",
     "status": "completed"
    },
    "tags": []
   },
   "outputs": [
    {
     "data": {
      "text/html": [
       "<div>\n",
       "<style scoped>\n",
       "    .dataframe tbody tr th:only-of-type {\n",
       "        vertical-align: middle;\n",
       "    }\n",
       "\n",
       "    .dataframe tbody tr th {\n",
       "        vertical-align: top;\n",
       "    }\n",
       "\n",
       "    .dataframe thead th {\n",
       "        text-align: right;\n",
       "    }\n",
       "</style>\n",
       "<table border=\"1\" class=\"dataframe\">\n",
       "  <thead>\n",
       "    <tr style=\"text-align: right;\">\n",
       "      <th></th>\n",
       "      <th>label</th>\n",
       "      <th>pixel0</th>\n",
       "      <th>pixel1</th>\n",
       "      <th>pixel2</th>\n",
       "      <th>pixel3</th>\n",
       "      <th>pixel4</th>\n",
       "      <th>pixel5</th>\n",
       "      <th>pixel6</th>\n",
       "      <th>pixel7</th>\n",
       "      <th>pixel8</th>\n",
       "      <th>...</th>\n",
       "      <th>pixel774</th>\n",
       "      <th>pixel775</th>\n",
       "      <th>pixel776</th>\n",
       "      <th>pixel777</th>\n",
       "      <th>pixel778</th>\n",
       "      <th>pixel779</th>\n",
       "      <th>pixel780</th>\n",
       "      <th>pixel781</th>\n",
       "      <th>pixel782</th>\n",
       "      <th>pixel783</th>\n",
       "    </tr>\n",
       "  </thead>\n",
       "  <tbody>\n",
       "    <tr>\n",
       "      <th>0</th>\n",
       "      <td>1</td>\n",
       "      <td>0</td>\n",
       "      <td>0</td>\n",
       "      <td>0</td>\n",
       "      <td>0</td>\n",
       "      <td>0</td>\n",
       "      <td>0</td>\n",
       "      <td>0</td>\n",
       "      <td>0</td>\n",
       "      <td>0</td>\n",
       "      <td>...</td>\n",
       "      <td>0</td>\n",
       "      <td>0</td>\n",
       "      <td>0</td>\n",
       "      <td>0</td>\n",
       "      <td>0</td>\n",
       "      <td>0</td>\n",
       "      <td>0</td>\n",
       "      <td>0</td>\n",
       "      <td>0</td>\n",
       "      <td>0</td>\n",
       "    </tr>\n",
       "    <tr>\n",
       "      <th>1</th>\n",
       "      <td>0</td>\n",
       "      <td>0</td>\n",
       "      <td>0</td>\n",
       "      <td>0</td>\n",
       "      <td>0</td>\n",
       "      <td>0</td>\n",
       "      <td>0</td>\n",
       "      <td>0</td>\n",
       "      <td>0</td>\n",
       "      <td>0</td>\n",
       "      <td>...</td>\n",
       "      <td>0</td>\n",
       "      <td>0</td>\n",
       "      <td>0</td>\n",
       "      <td>0</td>\n",
       "      <td>0</td>\n",
       "      <td>0</td>\n",
       "      <td>0</td>\n",
       "      <td>0</td>\n",
       "      <td>0</td>\n",
       "      <td>0</td>\n",
       "    </tr>\n",
       "    <tr>\n",
       "      <th>2</th>\n",
       "      <td>1</td>\n",
       "      <td>0</td>\n",
       "      <td>0</td>\n",
       "      <td>0</td>\n",
       "      <td>0</td>\n",
       "      <td>0</td>\n",
       "      <td>0</td>\n",
       "      <td>0</td>\n",
       "      <td>0</td>\n",
       "      <td>0</td>\n",
       "      <td>...</td>\n",
       "      <td>0</td>\n",
       "      <td>0</td>\n",
       "      <td>0</td>\n",
       "      <td>0</td>\n",
       "      <td>0</td>\n",
       "      <td>0</td>\n",
       "      <td>0</td>\n",
       "      <td>0</td>\n",
       "      <td>0</td>\n",
       "      <td>0</td>\n",
       "    </tr>\n",
       "    <tr>\n",
       "      <th>3</th>\n",
       "      <td>4</td>\n",
       "      <td>0</td>\n",
       "      <td>0</td>\n",
       "      <td>0</td>\n",
       "      <td>0</td>\n",
       "      <td>0</td>\n",
       "      <td>0</td>\n",
       "      <td>0</td>\n",
       "      <td>0</td>\n",
       "      <td>0</td>\n",
       "      <td>...</td>\n",
       "      <td>0</td>\n",
       "      <td>0</td>\n",
       "      <td>0</td>\n",
       "      <td>0</td>\n",
       "      <td>0</td>\n",
       "      <td>0</td>\n",
       "      <td>0</td>\n",
       "      <td>0</td>\n",
       "      <td>0</td>\n",
       "      <td>0</td>\n",
       "    </tr>\n",
       "    <tr>\n",
       "      <th>4</th>\n",
       "      <td>0</td>\n",
       "      <td>0</td>\n",
       "      <td>0</td>\n",
       "      <td>0</td>\n",
       "      <td>0</td>\n",
       "      <td>0</td>\n",
       "      <td>0</td>\n",
       "      <td>0</td>\n",
       "      <td>0</td>\n",
       "      <td>0</td>\n",
       "      <td>...</td>\n",
       "      <td>0</td>\n",
       "      <td>0</td>\n",
       "      <td>0</td>\n",
       "      <td>0</td>\n",
       "      <td>0</td>\n",
       "      <td>0</td>\n",
       "      <td>0</td>\n",
       "      <td>0</td>\n",
       "      <td>0</td>\n",
       "      <td>0</td>\n",
       "    </tr>\n",
       "    <tr>\n",
       "      <th>5</th>\n",
       "      <td>0</td>\n",
       "      <td>0</td>\n",
       "      <td>0</td>\n",
       "      <td>0</td>\n",
       "      <td>0</td>\n",
       "      <td>0</td>\n",
       "      <td>0</td>\n",
       "      <td>0</td>\n",
       "      <td>0</td>\n",
       "      <td>0</td>\n",
       "      <td>...</td>\n",
       "      <td>0</td>\n",
       "      <td>0</td>\n",
       "      <td>0</td>\n",
       "      <td>0</td>\n",
       "      <td>0</td>\n",
       "      <td>0</td>\n",
       "      <td>0</td>\n",
       "      <td>0</td>\n",
       "      <td>0</td>\n",
       "      <td>0</td>\n",
       "    </tr>\n",
       "    <tr>\n",
       "      <th>6</th>\n",
       "      <td>7</td>\n",
       "      <td>0</td>\n",
       "      <td>0</td>\n",
       "      <td>0</td>\n",
       "      <td>0</td>\n",
       "      <td>0</td>\n",
       "      <td>0</td>\n",
       "      <td>0</td>\n",
       "      <td>0</td>\n",
       "      <td>0</td>\n",
       "      <td>...</td>\n",
       "      <td>0</td>\n",
       "      <td>0</td>\n",
       "      <td>0</td>\n",
       "      <td>0</td>\n",
       "      <td>0</td>\n",
       "      <td>0</td>\n",
       "      <td>0</td>\n",
       "      <td>0</td>\n",
       "      <td>0</td>\n",
       "      <td>0</td>\n",
       "    </tr>\n",
       "    <tr>\n",
       "      <th>7</th>\n",
       "      <td>3</td>\n",
       "      <td>0</td>\n",
       "      <td>0</td>\n",
       "      <td>0</td>\n",
       "      <td>0</td>\n",
       "      <td>0</td>\n",
       "      <td>0</td>\n",
       "      <td>0</td>\n",
       "      <td>0</td>\n",
       "      <td>0</td>\n",
       "      <td>...</td>\n",
       "      <td>0</td>\n",
       "      <td>0</td>\n",
       "      <td>0</td>\n",
       "      <td>0</td>\n",
       "      <td>0</td>\n",
       "      <td>0</td>\n",
       "      <td>0</td>\n",
       "      <td>0</td>\n",
       "      <td>0</td>\n",
       "      <td>0</td>\n",
       "    </tr>\n",
       "    <tr>\n",
       "      <th>8</th>\n",
       "      <td>5</td>\n",
       "      <td>0</td>\n",
       "      <td>0</td>\n",
       "      <td>0</td>\n",
       "      <td>0</td>\n",
       "      <td>0</td>\n",
       "      <td>0</td>\n",
       "      <td>0</td>\n",
       "      <td>0</td>\n",
       "      <td>0</td>\n",
       "      <td>...</td>\n",
       "      <td>0</td>\n",
       "      <td>0</td>\n",
       "      <td>0</td>\n",
       "      <td>0</td>\n",
       "      <td>0</td>\n",
       "      <td>0</td>\n",
       "      <td>0</td>\n",
       "      <td>0</td>\n",
       "      <td>0</td>\n",
       "      <td>0</td>\n",
       "    </tr>\n",
       "    <tr>\n",
       "      <th>9</th>\n",
       "      <td>3</td>\n",
       "      <td>0</td>\n",
       "      <td>0</td>\n",
       "      <td>0</td>\n",
       "      <td>0</td>\n",
       "      <td>0</td>\n",
       "      <td>0</td>\n",
       "      <td>0</td>\n",
       "      <td>0</td>\n",
       "      <td>0</td>\n",
       "      <td>...</td>\n",
       "      <td>0</td>\n",
       "      <td>0</td>\n",
       "      <td>0</td>\n",
       "      <td>0</td>\n",
       "      <td>0</td>\n",
       "      <td>0</td>\n",
       "      <td>0</td>\n",
       "      <td>0</td>\n",
       "      <td>0</td>\n",
       "      <td>0</td>\n",
       "    </tr>\n",
       "  </tbody>\n",
       "</table>\n",
       "<p>10 rows × 785 columns</p>\n",
       "</div>"
      ],
      "text/plain": [
       "   label  pixel0  pixel1  pixel2  pixel3  pixel4  pixel5  pixel6  pixel7  \\\n",
       "0      1       0       0       0       0       0       0       0       0   \n",
       "1      0       0       0       0       0       0       0       0       0   \n",
       "2      1       0       0       0       0       0       0       0       0   \n",
       "3      4       0       0       0       0       0       0       0       0   \n",
       "4      0       0       0       0       0       0       0       0       0   \n",
       "5      0       0       0       0       0       0       0       0       0   \n",
       "6      7       0       0       0       0       0       0       0       0   \n",
       "7      3       0       0       0       0       0       0       0       0   \n",
       "8      5       0       0       0       0       0       0       0       0   \n",
       "9      3       0       0       0       0       0       0       0       0   \n",
       "\n",
       "   pixel8  ...  pixel774  pixel775  pixel776  pixel777  pixel778  pixel779  \\\n",
       "0       0  ...         0         0         0         0         0         0   \n",
       "1       0  ...         0         0         0         0         0         0   \n",
       "2       0  ...         0         0         0         0         0         0   \n",
       "3       0  ...         0         0         0         0         0         0   \n",
       "4       0  ...         0         0         0         0         0         0   \n",
       "5       0  ...         0         0         0         0         0         0   \n",
       "6       0  ...         0         0         0         0         0         0   \n",
       "7       0  ...         0         0         0         0         0         0   \n",
       "8       0  ...         0         0         0         0         0         0   \n",
       "9       0  ...         0         0         0         0         0         0   \n",
       "\n",
       "   pixel780  pixel781  pixel782  pixel783  \n",
       "0         0         0         0         0  \n",
       "1         0         0         0         0  \n",
       "2         0         0         0         0  \n",
       "3         0         0         0         0  \n",
       "4         0         0         0         0  \n",
       "5         0         0         0         0  \n",
       "6         0         0         0         0  \n",
       "7         0         0         0         0  \n",
       "8         0         0         0         0  \n",
       "9         0         0         0         0  \n",
       "\n",
       "[10 rows x 785 columns]"
      ]
     },
     "execution_count": 2,
     "metadata": {},
     "output_type": "execute_result"
    }
   ],
   "source": [
    "train = pd.read_csv(\"/kaggle/input/digit-recognizer/train.csv\")\n",
    "test = pd.read_csv(\"/kaggle/input/digit-recognizer/test.csv\")\n",
    "\n",
    "train.head(10)"
   ]
  },
  {
   "cell_type": "markdown",
   "id": "7a61ee41",
   "metadata": {
    "papermill": {
     "duration": 0.005506,
     "end_time": "2024-08-06T12:02:13.992412",
     "exception": false,
     "start_time": "2024-08-06T12:02:13.986906",
     "status": "completed"
    },
    "tags": []
   },
   "source": [
    "## 2. Проверяем, нет ли пропусков в данных"
   ]
  },
  {
   "cell_type": "code",
   "execution_count": 3,
   "id": "01fadeb4",
   "metadata": {
    "execution": {
     "iopub.execute_input": "2024-08-06T12:02:14.005214Z",
     "iopub.status.busy": "2024-08-06T12:02:14.004275Z",
     "iopub.status.idle": "2024-08-06T12:02:14.067736Z",
     "shell.execute_reply": "2024-08-06T12:02:14.066348Z"
    },
    "papermill": {
     "duration": 0.072676,
     "end_time": "2024-08-06T12:02:14.070369",
     "exception": false,
     "start_time": "2024-08-06T12:02:13.997693",
     "status": "completed"
    },
    "tags": []
   },
   "outputs": [
    {
     "name": "stdout",
     "output_type": "stream",
     "text": [
      "Пропущенные значения в train.csv:\n",
      "label       0\n",
      "pixel0      0\n",
      "pixel1      0\n",
      "pixel2      0\n",
      "pixel3      0\n",
      "           ..\n",
      "pixel779    0\n",
      "pixel780    0\n",
      "pixel781    0\n",
      "pixel782    0\n",
      "pixel783    0\n",
      "Length: 785, dtype: int64\n",
      "\n",
      "Пропущенные значения в test.csv:\n",
      "pixel0      0\n",
      "pixel1      0\n",
      "pixel2      0\n",
      "pixel3      0\n",
      "pixel4      0\n",
      "           ..\n",
      "pixel779    0\n",
      "pixel780    0\n",
      "pixel781    0\n",
      "pixel782    0\n",
      "pixel783    0\n",
      "Length: 784, dtype: int64\n"
     ]
    }
   ],
   "source": [
    "print(\"Пропущенные значения в train.csv:\")\n",
    "print(train.isnull().sum())\n",
    "print(\"\\nПропущенные значения в test.csv:\")\n",
    "print(test.isnull().sum())"
   ]
  },
  {
   "cell_type": "markdown",
   "id": "85d421be",
   "metadata": {
    "papermill": {
     "duration": 0.005164,
     "end_time": "2024-08-06T12:02:14.081208",
     "exception": false,
     "start_time": "2024-08-06T12:02:14.076044",
     "status": "completed"
    },
    "tags": []
   },
   "source": [
    "## 3. Подготавливаем данные"
   ]
  },
  {
   "cell_type": "markdown",
   "id": "fb28691b",
   "metadata": {
    "papermill": {
     "duration": 0.005041,
     "end_time": "2024-08-06T12:02:14.091691",
     "exception": false,
     "start_time": "2024-08-06T12:02:14.086650",
     "status": "completed"
    },
    "tags": []
   },
   "source": [
    "### 3.1. Подготовка данных"
   ]
  },
  {
   "cell_type": "code",
   "execution_count": 4,
   "id": "7da88e59",
   "metadata": {
    "execution": {
     "iopub.execute_input": "2024-08-06T12:02:14.104455Z",
     "iopub.status.busy": "2024-08-06T12:02:14.104057Z",
     "iopub.status.idle": "2024-08-06T12:02:14.350674Z",
     "shell.execute_reply": "2024-08-06T12:02:14.349474Z"
    },
    "papermill": {
     "duration": 0.256133,
     "end_time": "2024-08-06T12:02:14.353445",
     "exception": false,
     "start_time": "2024-08-06T12:02:14.097312",
     "status": "completed"
    },
    "tags": []
   },
   "outputs": [],
   "source": [
    "X = train.drop('label', axis=1).values / 255.0\n",
    "y = train['label'].values"
   ]
  },
  {
   "cell_type": "markdown",
   "id": "e2fc1872",
   "metadata": {
    "papermill": {
     "duration": 0.005135,
     "end_time": "2024-08-06T12:02:14.364251",
     "exception": false,
     "start_time": "2024-08-06T12:02:14.359116",
     "status": "completed"
    },
    "tags": []
   },
   "source": [
    "### 3.2. Разделение данных на тренировочные и валидационные"
   ]
  },
  {
   "cell_type": "code",
   "execution_count": 5,
   "id": "0f284847",
   "metadata": {
    "execution": {
     "iopub.execute_input": "2024-08-06T12:02:14.376924Z",
     "iopub.status.busy": "2024-08-06T12:02:14.376475Z",
     "iopub.status.idle": "2024-08-06T12:02:14.803067Z",
     "shell.execute_reply": "2024-08-06T12:02:14.801907Z"
    },
    "papermill": {
     "duration": 0.436,
     "end_time": "2024-08-06T12:02:14.805711",
     "exception": false,
     "start_time": "2024-08-06T12:02:14.369711",
     "status": "completed"
    },
    "tags": []
   },
   "outputs": [],
   "source": [
    "X_train, X_val, y_train, y_val = train_test_split(X, y, test_size=0.2, random_state=42)"
   ]
  },
  {
   "cell_type": "markdown",
   "id": "7d8e81f3",
   "metadata": {
    "papermill": {
     "duration": 0.005065,
     "end_time": "2024-08-06T12:02:14.816210",
     "exception": false,
     "start_time": "2024-08-06T12:02:14.811145",
     "status": "completed"
    },
    "tags": []
   },
   "source": [
    "## 4. Создание модели"
   ]
  },
  {
   "cell_type": "markdown",
   "id": "a608786c",
   "metadata": {
    "papermill": {
     "duration": 0.005153,
     "end_time": "2024-08-06T12:02:14.826704",
     "exception": false,
     "start_time": "2024-08-06T12:02:14.821551",
     "status": "completed"
    },
    "tags": []
   },
   "source": [
    "### 4.1. Установка устройства"
   ]
  },
  {
   "cell_type": "code",
   "execution_count": 6,
   "id": "818175c7",
   "metadata": {
    "execution": {
     "iopub.execute_input": "2024-08-06T12:02:14.839635Z",
     "iopub.status.busy": "2024-08-06T12:02:14.838763Z",
     "iopub.status.idle": "2024-08-06T12:02:14.843946Z",
     "shell.execute_reply": "2024-08-06T12:02:14.842800Z"
    },
    "papermill": {
     "duration": 0.014034,
     "end_time": "2024-08-06T12:02:14.846119",
     "exception": false,
     "start_time": "2024-08-06T12:02:14.832085",
     "status": "completed"
    },
    "tags": []
   },
   "outputs": [],
   "source": [
    "device = torch.device(\"cuda\" if torch.cuda.is_available() else \"cpu\")"
   ]
  },
  {
   "cell_type": "markdown",
   "id": "9f848d27",
   "metadata": {
    "papermill": {
     "duration": 0.004983,
     "end_time": "2024-08-06T12:02:14.856437",
     "exception": false,
     "start_time": "2024-08-06T12:02:14.851454",
     "status": "completed"
    },
    "tags": []
   },
   "source": [
    "### 4.2. Создание модели в стиле Pytorch"
   ]
  },
  {
   "cell_type": "code",
   "execution_count": 7,
   "id": "cbdca6d1",
   "metadata": {
    "execution": {
     "iopub.execute_input": "2024-08-06T12:02:14.868746Z",
     "iopub.status.busy": "2024-08-06T12:02:14.868347Z",
     "iopub.status.idle": "2024-08-06T12:02:16.688461Z",
     "shell.execute_reply": "2024-08-06T12:02:16.687187Z"
    },
    "papermill": {
     "duration": 1.829192,
     "end_time": "2024-08-06T12:02:16.691044",
     "exception": false,
     "start_time": "2024-08-06T12:02:14.861852",
     "status": "completed"
    },
    "tags": []
   },
   "outputs": [],
   "source": [
    "# Определение Dataset\n",
    "class DigitDataset(Dataset):\n",
    "    def __init__(self, images, labels=None):\n",
    "        self.images = torch.tensor(images, dtype=torch.float32).reshape(-1, 1, 28, 28)\n",
    "        self.labels = torch.tensor(labels, dtype=torch.long) if labels is not None else None\n",
    "    \n",
    "    def __len__(self):\n",
    "        return len(self.images)\n",
    "    \n",
    "    def __getitem__(self, idx):\n",
    "        if self.labels is not None:\n",
    "            return self.images[idx], self.labels[idx]\n",
    "        else:\n",
    "            return self.images[idx]\n",
    "\n",
    "train_dataset = DigitDataset(X_train, y_train)\n",
    "val_dataset = DigitDataset(X_val, y_val)\n",
    "test_dataset = DigitDataset(test.values / 255.0)\n",
    "\n",
    "train_loader = DataLoader(train_dataset, batch_size=64, shuffle=True)\n",
    "val_loader = DataLoader(val_dataset, batch_size=64, shuffle=False)\n",
    "test_loader = DataLoader(test_dataset, batch_size=64, shuffle=False)\n",
    "\n",
    "# Определение модели\n",
    "class DigitClassifier(nn.Module):\n",
    "    def __init__(self):\n",
    "        super(DigitClassifier, self).__init__()\n",
    "        self.conv1 = nn.Conv2d(1, 32, kernel_size=3, padding=1)\n",
    "        self.conv2 = nn.Conv2d(32, 64, kernel_size=3, padding=1)\n",
    "        self.pool = nn.MaxPool2d(2, 2)\n",
    "        self.fc1 = nn.Linear(64 * 7 * 7, 128)\n",
    "        self.fc2 = nn.Linear(128, 10)\n",
    "    \n",
    "    def forward(self, x):\n",
    "        x = self.pool(F.relu(self.conv1(x)))\n",
    "        x = self.pool(F.relu(self.conv2(x)))\n",
    "        x = x.view(-1, 64 * 7 * 7)\n",
    "        x = F.relu(self.fc1(x))\n",
    "        x = self.fc2(x)\n",
    "        return x\n",
    "\n",
    "model = DigitClassifier().to(device)\n",
    "\n",
    "# Определение функции потерь и оптимизатора\n",
    "criterion = nn.CrossEntropyLoss()\n",
    "optimizer = optim.Adam(model.parameters(), lr=0.001)"
   ]
  },
  {
   "cell_type": "markdown",
   "id": "fb4dea4d",
   "metadata": {
    "papermill": {
     "duration": 0.005163,
     "end_time": "2024-08-06T12:02:16.702001",
     "exception": false,
     "start_time": "2024-08-06T12:02:16.696838",
     "status": "completed"
    },
    "tags": []
   },
   "source": [
    "## 5. Обучение модели"
   ]
  },
  {
   "cell_type": "markdown",
   "id": "3306fc71",
   "metadata": {
    "papermill": {
     "duration": 0.00519,
     "end_time": "2024-08-06T12:02:16.712622",
     "exception": false,
     "start_time": "2024-08-06T12:02:16.707432",
     "status": "completed"
    },
    "tags": []
   },
   "source": [
    "### 5.1. Обучение и валидация модели"
   ]
  },
  {
   "cell_type": "code",
   "execution_count": 8,
   "id": "805f3cba",
   "metadata": {
    "execution": {
     "iopub.execute_input": "2024-08-06T12:02:16.725962Z",
     "iopub.status.busy": "2024-08-06T12:02:16.725420Z",
     "iopub.status.idle": "2024-08-06T12:05:57.554845Z",
     "shell.execute_reply": "2024-08-06T12:05:57.553607Z"
    },
    "papermill": {
     "duration": 220.838543,
     "end_time": "2024-08-06T12:05:57.557299",
     "exception": false,
     "start_time": "2024-08-06T12:02:16.718756",
     "status": "completed"
    },
    "tags": []
   },
   "outputs": [
    {
     "name": "stdout",
     "output_type": "stream",
     "text": [
      "Epoch 1, Loss: 0.23958630598549333\n",
      "Validation Accuracy: 96.95%\n",
      "Epoch 2, Loss: 0.06354765840495626\n",
      "Validation Accuracy: 98.29%\n",
      "Epoch 3, Loss: 0.043893254976497875\n",
      "Validation Accuracy: 98.37%\n",
      "Epoch 4, Loss: 0.033208444611657235\n",
      "Validation Accuracy: 98.27%\n",
      "Epoch 5, Loss: 0.02362095643422522\n",
      "Validation Accuracy: 98.10%\n",
      "Epoch 6, Loss: 0.019971291382708364\n",
      "Validation Accuracy: 98.67%\n",
      "Epoch 7, Loss: 0.013852220202104599\n",
      "Validation Accuracy: 98.60%\n",
      "Epoch 8, Loss: 0.011970645255210651\n",
      "Validation Accuracy: 98.68%\n",
      "Epoch 9, Loss: 0.010718141798445555\n",
      "Validation Accuracy: 98.77%\n",
      "Epoch 10, Loss: 0.010230629265896001\n",
      "Validation Accuracy: 98.61%\n"
     ]
    }
   ],
   "source": [
    "num_epochs = 10\n",
    "for epoch in range(num_epochs):\n",
    "    model.train()\n",
    "    running_loss = 0.0\n",
    "    for images, labels in train_loader:\n",
    "        images, labels = images.to(device), labels.to(device)\n",
    "        \n",
    "        optimizer.zero_grad()\n",
    "        outputs = model(images)\n",
    "        loss = criterion(outputs, labels)\n",
    "        loss.backward()\n",
    "        optimizer.step()\n",
    "        running_loss += loss.item()\n",
    "    \n",
    "    print(f'Epoch {epoch + 1}, Loss: {running_loss / len(train_loader)}')\n",
    "\n",
    "    # Валидация модели\n",
    "    model.eval()\n",
    "    val_predictions = []\n",
    "    val_labels = []\n",
    "    with torch.no_grad():\n",
    "        for images, labels in val_loader:\n",
    "            images, labels = images.to(device), labels.to(device)\n",
    "            outputs = model(images)\n",
    "            _, predicted = torch.max(outputs, 1)\n",
    "            val_predictions.extend(predicted.cpu().numpy())\n",
    "            val_labels.extend(labels.cpu().numpy())\n",
    "    \n",
    "    accuracy = accuracy_score(val_labels, val_predictions)\n",
    "    print(f'Validation Accuracy: {accuracy * 100:.2f}%')"
   ]
  },
  {
   "cell_type": "markdown",
   "id": "e66db931",
   "metadata": {
    "papermill": {
     "duration": 0.008121,
     "end_time": "2024-08-06T12:05:57.572360",
     "exception": false,
     "start_time": "2024-08-06T12:05:57.564239",
     "status": "completed"
    },
    "tags": []
   },
   "source": [
    "## 6. Создание прогнозов для тестовых данных"
   ]
  },
  {
   "cell_type": "code",
   "execution_count": 9,
   "id": "916bbe8d",
   "metadata": {
    "execution": {
     "iopub.execute_input": "2024-08-06T12:05:57.587339Z",
     "iopub.status.busy": "2024-08-06T12:05:57.586950Z",
     "iopub.status.idle": "2024-08-06T12:06:04.745247Z",
     "shell.execute_reply": "2024-08-06T12:06:04.743904Z"
    },
    "papermill": {
     "duration": 7.168821,
     "end_time": "2024-08-06T12:06:04.747861",
     "exception": false,
     "start_time": "2024-08-06T12:05:57.579040",
     "status": "completed"
    },
    "tags": []
   },
   "outputs": [],
   "source": [
    "model.eval()\n",
    "test_predictions = []\n",
    "with torch.no_grad():\n",
    "    for images in test_loader:\n",
    "        images = images.to(device)\n",
    "        outputs = model(images)\n",
    "        _, predicted = torch.max(outputs, 1)\n",
    "        test_predictions.extend(predicted.cpu().numpy())\n",
    "\n",
    "# Сохранение результатов\n",
    "submission = pd.DataFrame({'ImageId': list(range(1, len(test_predictions) + 1)), 'Label': test_predictions})\n",
    "submission.to_csv('submission.csv', index=False)"
   ]
  }
 ],
 "metadata": {
  "kaggle": {
   "accelerator": "none",
   "dataSources": [
    {
     "databundleVersionId": 861823,
     "sourceId": 3004,
     "sourceType": "competition"
    }
   ],
   "dockerImageVersionId": 30746,
   "isGpuEnabled": false,
   "isInternetEnabled": false,
   "language": "python",
   "sourceType": "notebook"
  },
  "kernelspec": {
   "display_name": "Python 3",
   "language": "python",
   "name": "python3"
  },
  "language_info": {
   "codemirror_mode": {
    "name": "ipython",
    "version": 3
   },
   "file_extension": ".py",
   "mimetype": "text/x-python",
   "name": "python",
   "nbconvert_exporter": "python",
   "pygments_lexer": "ipython3",
   "version": "3.10.13"
  },
  "papermill": {
   "default_parameters": {},
   "duration": 245.945079,
   "end_time": "2024-08-06T12:06:05.978637",
   "environment_variables": {},
   "exception": null,
   "input_path": "__notebook__.ipynb",
   "output_path": "__notebook__.ipynb",
   "parameters": {},
   "start_time": "2024-08-06T12:02:00.033558",
   "version": "2.5.0"
  }
 },
 "nbformat": 4,
 "nbformat_minor": 5
}
